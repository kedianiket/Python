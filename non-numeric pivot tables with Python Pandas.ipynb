{
 "cells": [
  {
   "cell_type": "code",
   "execution_count": 1,
   "id": "37a6f5b3",
   "metadata": {},
   "outputs": [],
   "source": [
    "import pandas as pd\n",
    "import numpy as np\n",
    "from scipy import stats\n",
    "from datetime import datetime\n",
    "\n",
    "import matplotlib.pyplot as plt\n",
    "\n",
    "import seaborn as sns"
   ]
  },
  {
   "cell_type": "code",
   "execution_count": 2,
   "id": "625a410a",
   "metadata": {},
   "outputs": [
    {
     "name": "stdout",
     "output_type": "stream",
     "text": [
      "E:\\Codementor\\Python\\Pivot Table\n"
     ]
    }
   ],
   "source": [
    "#changing working directory\n",
    "%cd \"E:\\Codementor\\Python\\Pivot Table\""
   ]
  },
  {
   "cell_type": "code",
   "execution_count": 3,
   "id": "1f12251c",
   "metadata": {},
   "outputs": [],
   "source": [
    "empData = pd.read_csv('mdl_feedback_dated.csv')"
   ]
  },
  {
   "cell_type": "code",
   "execution_count": 4,
   "id": "6e1f8c43",
   "metadata": {},
   "outputs": [],
   "source": [
    "empData['Key1'] = empData['course']+\"-\"+empData['user_id'].astype(str)"
   ]
  },
  {
   "cell_type": "code",
   "execution_count": 5,
   "id": "8e36157c",
   "metadata": {},
   "outputs": [],
   "source": [
    "empData['Key2'] = empData['feedback']+\"-\"+empData['question']"
   ]
  },
  {
   "cell_type": "code",
   "execution_count": 14,
   "id": "636aa830",
   "metadata": {},
   "outputs": [],
   "source": [
    "pivot_table = empData.pivot_table(index='Key1',\n",
    "                                     columns='Key2', \n",
    "                                     values='answer_text',\n",
    "                                     aggfunc=lambda x: '###'.join(str(v) for v in x))"
   ]
  },
  {
   "cell_type": "code",
   "execution_count": 16,
   "id": "376f90a4",
   "metadata": {},
   "outputs": [],
   "source": [
    "pivot_table.to_csv('outputtttt.csv')"
   ]
  },
  {
   "cell_type": "code",
   "execution_count": null,
   "id": "4f8bbc7b",
   "metadata": {},
   "outputs": [],
   "source": []
  }
 ],
 "metadata": {
  "kernelspec": {
   "display_name": "Python 3",
   "language": "python",
   "name": "python3"
  },
  "language_info": {
   "codemirror_mode": {
    "name": "ipython",
    "version": 3
   },
   "file_extension": ".py",
   "mimetype": "text/x-python",
   "name": "python",
   "nbconvert_exporter": "python",
   "pygments_lexer": "ipython3",
   "version": "3.8.8"
  }
 },
 "nbformat": 4,
 "nbformat_minor": 5
}
